{
 "cells": [
  {
   "cell_type": "code",
   "execution_count": 1,
   "id": "e9ba8052",
   "metadata": {},
   "outputs": [
    {
     "data": {
      "text/html": [
       "<div>\n",
       "<style scoped>\n",
       "    .dataframe tbody tr th:only-of-type {\n",
       "        vertical-align: middle;\n",
       "    }\n",
       "\n",
       "    .dataframe tbody tr th {\n",
       "        vertical-align: top;\n",
       "    }\n",
       "\n",
       "    .dataframe thead th {\n",
       "        text-align: right;\n",
       "    }\n",
       "</style>\n",
       "<table border=\"1\" class=\"dataframe\">\n",
       "  <thead>\n",
       "    <tr style=\"text-align: right;\">\n",
       "      <th></th>\n",
       "      <th>ayakkabiNumarasi</th>\n",
       "    </tr>\n",
       "  </thead>\n",
       "  <tbody>\n",
       "    <tr>\n",
       "      <th>0</th>\n",
       "      <td>39.745493</td>\n",
       "    </tr>\n",
       "    <tr>\n",
       "      <th>1</th>\n",
       "      <td>33.983582</td>\n",
       "    </tr>\n",
       "    <tr>\n",
       "      <th>2</th>\n",
       "      <td>38.265091</td>\n",
       "    </tr>\n",
       "    <tr>\n",
       "      <th>3</th>\n",
       "      <td>37.886504</td>\n",
       "    </tr>\n",
       "    <tr>\n",
       "      <th>4</th>\n",
       "      <td>36.721568</td>\n",
       "    </tr>\n",
       "    <tr>\n",
       "      <th>...</th>\n",
       "      <td>...</td>\n",
       "    </tr>\n",
       "    <tr>\n",
       "      <th>95</th>\n",
       "      <td>36.559148</td>\n",
       "    </tr>\n",
       "    <tr>\n",
       "      <th>96</th>\n",
       "      <td>35.825128</td>\n",
       "    </tr>\n",
       "    <tr>\n",
       "      <th>97</th>\n",
       "      <td>33.695061</td>\n",
       "    </tr>\n",
       "    <tr>\n",
       "      <th>98</th>\n",
       "      <td>34.391222</td>\n",
       "    </tr>\n",
       "    <tr>\n",
       "      <th>99</th>\n",
       "      <td>40.110375</td>\n",
       "    </tr>\n",
       "  </tbody>\n",
       "</table>\n",
       "<p>100 rows × 1 columns</p>\n",
       "</div>"
      ],
      "text/plain": [
       "    ayakkabiNumarasi\n",
       "0          39.745493\n",
       "1          33.983582\n",
       "2          38.265091\n",
       "3          37.886504\n",
       "4          36.721568\n",
       "..               ...\n",
       "95         36.559148\n",
       "96         35.825128\n",
       "97         33.695061\n",
       "98         34.391222\n",
       "99         40.110375\n",
       "\n",
       "[100 rows x 1 columns]"
      ]
     },
     "execution_count": 1,
     "metadata": {},
     "output_type": "execute_result"
    }
   ],
   "source": [
    "import numpy as np\n",
    "import pandas as pd\n",
    "\n",
    "myDataFrame= pd.DataFrame()\n",
    "\n",
    "myDataFrame['ayakkabiNumarasi'] = np.random.normal(37,4,100)\n",
    "myDataFrame"
   ]
  },
  {
   "cell_type": "code",
   "execution_count": 3,
   "id": "d619365c",
   "metadata": {},
   "outputs": [
    {
     "data": {
      "text/plain": [
       "37.332778671678895"
      ]
     },
     "execution_count": 3,
     "metadata": {},
     "output_type": "execute_result"
    }
   ],
   "source": [
    "#Matematiksel Formul kullanarak ortalama hesaplama\n",
    "sum(myDataFrame['ayakkabiNumarasi']) / len(myDataFrame['ayakkabiNumarasi'])\n"
   ]
  },
  {
   "cell_type": "code",
   "execution_count": 4,
   "id": "b063d266",
   "metadata": {},
   "outputs": [
    {
     "name": "stdout",
     "output_type": "stream",
     "text": [
      "37.332778671678895\n"
     ]
    }
   ],
   "source": [
    "#Hazır (built-in) Python fonksiyonları kullanarak ortalama hesaplama\n",
    "print(np.mean(myDataFrame['ayakkabiNumarasi']))"
   ]
  },
  {
   "cell_type": "code",
   "execution_count": 9,
   "id": "6dc7f119",
   "metadata": {},
   "outputs": [
    {
     "data": {
      "text/plain": [
       "37.34433187782285"
      ]
     },
     "execution_count": 9,
     "metadata": {},
     "output_type": "execute_result"
    }
   ],
   "source": [
    "#Formul ile Median \n",
    "def median(no):\n",
    "    n = len(no)\n",
    "    if n < 1:\n",
    "            return None\n",
    "    if n % 2 == 1:\n",
    "            return sorted(no)[n//2]\n",
    "    else:\n",
    "            return sum(sorted(no)[n//2-1:n//2+1])/2.0\n",
    "        \n",
    "median(myDataFrame['ayakkabiNumarasi'])"
   ]
  },
  {
   "cell_type": "code",
   "execution_count": 10,
   "id": "aac5ac92",
   "metadata": {},
   "outputs": [
    {
     "name": "stdout",
     "output_type": "stream",
     "text": [
      "37.34433187782285\n"
     ]
    }
   ],
   "source": [
    "#Built-in formulu ile Median\n",
    "import statistics\n",
    "print(statistics.median(myDataFrame['ayakkabiNumarasi']))"
   ]
  },
  {
   "cell_type": "code",
   "execution_count": 11,
   "id": "7e1db94e",
   "metadata": {},
   "outputs": [
    {
     "name": "stdout",
     "output_type": "stream",
     "text": [
      "37.34433187782285\n"
     ]
    }
   ],
   "source": [
    "#numpy ile median hesaplama\n",
    "print(np.median(myDataFrame['ayakkabiNumarasi']))"
   ]
  },
  {
   "cell_type": "code",
   "execution_count": 12,
   "id": "adfe38cc",
   "metadata": {},
   "outputs": [
    {
     "data": {
      "text/plain": [
       "39.74549300912671"
      ]
     },
     "execution_count": 12,
     "metadata": {},
     "output_type": "execute_result"
    }
   ],
   "source": [
    "# Mod hesaplama\n",
    "import statistics\n",
    "statistics.mode(myDataFrame['ayakkabiNumarasi'])"
   ]
  },
  {
   "cell_type": "code",
   "execution_count": 13,
   "id": "f05b2f38",
   "metadata": {},
   "outputs": [
    {
     "data": {
      "text/plain": [
       "12.940718894388269"
      ]
     },
     "execution_count": 13,
     "metadata": {},
     "output_type": "execute_result"
    }
   ],
   "source": [
    "#Matematiksel Formul kullanarak varyans hesaplama\n",
    "var = sum((myDataFrame['ayakkabiNumarasi'] -np.mean(myDataFrame['ayakkabiNumarasi']))**2) / (len(myDataFrame['ayakkabiNumarasi']))\n",
    "var"
   ]
  },
  {
   "cell_type": "code",
   "execution_count": 16,
   "id": "748f563b",
   "metadata": {},
   "outputs": [
    {
     "name": "stdout",
     "output_type": "stream",
     "text": [
      "13.071433226654818\n"
     ]
    }
   ],
   "source": [
    "#Built-in formulu ile varyans\n",
    "print(myDataFrame['ayakkabiNumarasi'].var())"
   ]
  },
  {
   "cell_type": "code",
   "execution_count": 17,
   "id": "4741852b",
   "metadata": {},
   "outputs": [
    {
     "name": "stdout",
     "output_type": "stream",
     "text": [
      "12.940718894388269\n"
     ]
    }
   ],
   "source": [
    "#numpy ile varyans hesaplama\n",
    "print(np.var(myDataFrame['ayakkabiNumarasi']))"
   ]
  },
  {
   "cell_type": "code",
   "execution_count": 18,
   "id": "b7643e0c",
   "metadata": {},
   "outputs": [
    {
     "data": {
      "text/plain": [
       "3.6154437108956374"
      ]
     },
     "execution_count": 18,
     "metadata": {},
     "output_type": "execute_result"
    }
   ],
   "source": [
    "#numpy ile standart sapma hesaplama\n",
    "np.std(myDataFrame['ayakkabiNumarasi'], ddof=1)"
   ]
  },
  {
   "cell_type": "code",
   "execution_count": 19,
   "id": "db01dad4",
   "metadata": {},
   "outputs": [
    {
     "data": {
      "text/plain": [
       "3.6154437108956374"
      ]
     },
     "execution_count": 19,
     "metadata": {},
     "output_type": "execute_result"
    }
   ],
   "source": [
    "#Built-in formulu ile standart sapma hesaplama\n",
    "myDataFrame['ayakkabiNumarasi'].std()"
   ]
  },
  {
   "cell_type": "code",
   "execution_count": 20,
   "id": "c25e9c98",
   "metadata": {},
   "outputs": [
    {
     "data": {
      "text/plain": [
       "0.35973210719072973"
      ]
     },
     "execution_count": 20,
     "metadata": {},
     "output_type": "execute_result"
    }
   ],
   "source": [
    "#Standart Hata \n",
    "np.std(myDataFrame['ayakkabiNumarasi']) / np.sqrt(len(myDataFrame['ayakkabiNumarasi']))"
   ]
  },
  {
   "cell_type": "code",
   "execution_count": 21,
   "id": "f46d0126",
   "metadata": {},
   "outputs": [
    {
     "data": {
      "text/plain": [
       "0.36154437108956383"
      ]
     },
     "execution_count": 21,
     "metadata": {},
     "output_type": "execute_result"
    }
   ],
   "source": [
    "#Built-in formulu ile standart hata\n",
    "from scipy import stats\n",
    "stats.sem(myDataFrame['ayakkabiNumarasi'])"
   ]
  },
  {
   "cell_type": "markdown",
   "id": "c7adaadd",
   "metadata": {},
   "source": [
    "--------------------------------------------"
   ]
  },
  {
   "cell_type": "markdown",
   "id": "c9af50c7",
   "metadata": {},
   "source": [
    "------------------------------------------------------------"
   ]
  },
  {
   "cell_type": "code",
   "execution_count": 23,
   "id": "071c7ba9",
   "metadata": {},
   "outputs": [
    {
     "data": {
      "text/plain": [
       "array([21,  2, 41,  7, 12,  7, 43, 22, 45, 21, 32, 50, 42, 45, 33,  5, 30,\n",
       "       30, 50, 37,  7, 40, 46, 21, 32, 53, 37, 15, 23,  3, 24, 24, 34, 50,\n",
       "       10, 32, 12, 17, 10, 46, 34, 54, 15, 52, 40, 26, 28,  1, 45, 16, 49,\n",
       "       16,  2, 22, 44])"
      ]
     },
     "execution_count": 23,
     "metadata": {},
     "output_type": "execute_result"
    }
   ],
   "source": [
    "import numpy as np\n",
    "import pandas as pd\n",
    "\n",
    "newDataFrame = np.random.randint(55, size=55)\n",
    "newDataFrame"
   ]
  },
  {
   "cell_type": "code",
   "execution_count": 24,
   "id": "14e00466",
   "metadata": {},
   "outputs": [
    {
     "data": {
      "text/plain": [
       "28.272727272727273"
      ]
     },
     "execution_count": 24,
     "metadata": {},
     "output_type": "execute_result"
    }
   ],
   "source": [
    "#Matematiksel Formul kullanarak ortalama hesaplama\n",
    "sum(newDataFrame) / len(newDataFrame)"
   ]
  },
  {
   "cell_type": "code",
   "execution_count": 25,
   "id": "3eb02fd2",
   "metadata": {},
   "outputs": [
    {
     "name": "stdout",
     "output_type": "stream",
     "text": [
      "28.272727272727273\n"
     ]
    }
   ],
   "source": [
    "#Hazır (built-in) Python fonksiyonları kullanarak ortalama hesaplama\n",
    "print(np.mean(newDataFrame))"
   ]
  },
  {
   "cell_type": "code",
   "execution_count": 26,
   "id": "fad501a5",
   "metadata": {},
   "outputs": [
    {
     "data": {
      "text/plain": [
       "30"
      ]
     },
     "execution_count": 26,
     "metadata": {},
     "output_type": "execute_result"
    }
   ],
   "source": [
    "#Formul ile Median \n",
    "def median(no):\n",
    "    n = len(no)\n",
    "    if n < 1:\n",
    "            return None\n",
    "    if n % 2 == 1:\n",
    "            return sorted(no)[n//2]\n",
    "    else:\n",
    "            return sum(sorted(no)[n//2-1:n//2+1])/2.0\n",
    "        \n",
    "median(newDataFrame)"
   ]
  },
  {
   "cell_type": "code",
   "execution_count": 27,
   "id": "65023605",
   "metadata": {},
   "outputs": [
    {
     "name": "stdout",
     "output_type": "stream",
     "text": [
      "30\n"
     ]
    }
   ],
   "source": [
    "#Built-in formulu ile Median\n",
    "import statistics\n",
    "print(statistics.median(newDataFrame))"
   ]
  },
  {
   "cell_type": "code",
   "execution_count": 28,
   "id": "e1556bbd",
   "metadata": {},
   "outputs": [
    {
     "name": "stdout",
     "output_type": "stream",
     "text": [
      "30.0\n"
     ]
    }
   ],
   "source": [
    "#numpy ile median hesaplama\n",
    "print(np.median(newDataFrame))"
   ]
  },
  {
   "cell_type": "code",
   "execution_count": 29,
   "id": "602138c7",
   "metadata": {},
   "outputs": [
    {
     "data": {
      "text/plain": [
       "21"
      ]
     },
     "execution_count": 29,
     "metadata": {},
     "output_type": "execute_result"
    }
   ],
   "source": [
    "# Mod hesaplama\n",
    "import statistics\n",
    "statistics.mode(newDataFrame)"
   ]
  },
  {
   "cell_type": "code",
   "execution_count": 30,
   "id": "ad88533f",
   "metadata": {},
   "outputs": [
    {
     "data": {
      "text/plain": [
       "244.998347107438"
      ]
     },
     "execution_count": 30,
     "metadata": {},
     "output_type": "execute_result"
    }
   ],
   "source": [
    "#Matematiksel Formul kullanarak varyans hesaplama\n",
    "var = sum((newDataFrame -np.mean(newDataFrame))**2) / (len(newDataFrame))\n",
    "var"
   ]
  },
  {
   "cell_type": "code",
   "execution_count": 31,
   "id": "e03ed1f7",
   "metadata": {},
   "outputs": [
    {
     "name": "stdout",
     "output_type": "stream",
     "text": [
      "244.99834710743798\n"
     ]
    }
   ],
   "source": [
    "#Built-in formulu ile varyans\n",
    "print(newDataFrame.var())"
   ]
  },
  {
   "cell_type": "code",
   "execution_count": 32,
   "id": "586ee806",
   "metadata": {},
   "outputs": [
    {
     "name": "stdout",
     "output_type": "stream",
     "text": [
      "244.99834710743798\n"
     ]
    }
   ],
   "source": [
    "#numpy ile varyans hesaplama\n",
    "print(np.var(newDataFrame))"
   ]
  },
  {
   "cell_type": "code",
   "execution_count": 33,
   "id": "68b096fa",
   "metadata": {},
   "outputs": [
    {
     "data": {
      "text/plain": [
       "15.796688055898093"
      ]
     },
     "execution_count": 33,
     "metadata": {},
     "output_type": "execute_result"
    }
   ],
   "source": [
    "#numpy ile standart sapma hesaplama\n",
    "np.std(newDataFrame, ddof=1)"
   ]
  },
  {
   "cell_type": "code",
   "execution_count": 34,
   "id": "d53bd851",
   "metadata": {},
   "outputs": [
    {
     "data": {
      "text/plain": [
       "15.652423042693357"
      ]
     },
     "execution_count": 34,
     "metadata": {},
     "output_type": "execute_result"
    }
   ],
   "source": [
    "#Built-in formulu ile standart sapma hesaplama\n",
    "newDataFrame.std()"
   ]
  },
  {
   "cell_type": "code",
   "execution_count": 35,
   "id": "12b7cd2c",
   "metadata": {},
   "outputs": [
    {
     "data": {
      "text/plain": [
       "2.1105722925200685"
      ]
     },
     "execution_count": 35,
     "metadata": {},
     "output_type": "execute_result"
    }
   ],
   "source": [
    "#Standart Hata \n",
    "np.std(newDataFrame) / np.sqrt(len(newDataFrame))"
   ]
  },
  {
   "cell_type": "code",
   "execution_count": 36,
   "id": "c7f07b38",
   "metadata": {},
   "outputs": [
    {
     "data": {
      "text/plain": [
       "2.130024982932247"
      ]
     },
     "execution_count": 36,
     "metadata": {},
     "output_type": "execute_result"
    }
   ],
   "source": [
    "#Built-in formulu ile standart hata\n",
    "from scipy import stats\n",
    "stats.sem(newDataFrame)"
   ]
  },
  {
   "cell_type": "markdown",
   "id": "9deddc78",
   "metadata": {},
   "source": [
    "////////////////////////////////////////////////////////////////////////////////////////////////////////////////////////////"
   ]
  },
  {
   "cell_type": "markdown",
   "id": "c5b351cf",
   "metadata": {},
   "source": [
    "//////////////////////////////////////////////////////////////////////////////////////////////////////////////////////////////"
   ]
  },
  {
   "cell_type": "code",
   "execution_count": 38,
   "id": "29f7ccf4",
   "metadata": {},
   "outputs": [
    {
     "data": {
      "text/html": [
       "<div>\n",
       "<style scoped>\n",
       "    .dataframe tbody tr th:only-of-type {\n",
       "        vertical-align: middle;\n",
       "    }\n",
       "\n",
       "    .dataframe tbody tr th {\n",
       "        vertical-align: top;\n",
       "    }\n",
       "\n",
       "    .dataframe thead th {\n",
       "        text-align: right;\n",
       "    }\n",
       "</style>\n",
       "<table border=\"1\" class=\"dataframe\">\n",
       "  <thead>\n",
       "    <tr style=\"text-align: right;\">\n",
       "      <th></th>\n",
       "      <th>gender</th>\n",
       "      <th>score</th>\n",
       "    </tr>\n",
       "  </thead>\n",
       "  <tbody>\n",
       "    <tr>\n",
       "      <th>0</th>\n",
       "      <td>male</td>\n",
       "      <td>70.014971</td>\n",
       "    </tr>\n",
       "    <tr>\n",
       "      <th>1</th>\n",
       "      <td>male</td>\n",
       "      <td>100.973040</td>\n",
       "    </tr>\n",
       "    <tr>\n",
       "      <th>2</th>\n",
       "      <td>male</td>\n",
       "      <td>80.201445</td>\n",
       "    </tr>\n",
       "    <tr>\n",
       "      <th>3</th>\n",
       "      <td>male</td>\n",
       "      <td>78.367452</td>\n",
       "    </tr>\n",
       "    <tr>\n",
       "      <th>4</th>\n",
       "      <td>male</td>\n",
       "      <td>72.516833</td>\n",
       "    </tr>\n",
       "    <tr>\n",
       "      <th>...</th>\n",
       "      <td>...</td>\n",
       "      <td>...</td>\n",
       "    </tr>\n",
       "    <tr>\n",
       "      <th>95</th>\n",
       "      <td>female</td>\n",
       "      <td>16.463721</td>\n",
       "    </tr>\n",
       "    <tr>\n",
       "      <th>96</th>\n",
       "      <td>female</td>\n",
       "      <td>25.046628</td>\n",
       "    </tr>\n",
       "    <tr>\n",
       "      <th>97</th>\n",
       "      <td>female</td>\n",
       "      <td>29.820330</td>\n",
       "    </tr>\n",
       "    <tr>\n",
       "      <th>98</th>\n",
       "      <td>female</td>\n",
       "      <td>24.388190</td>\n",
       "    </tr>\n",
       "    <tr>\n",
       "      <th>99</th>\n",
       "      <td>female</td>\n",
       "      <td>31.542524</td>\n",
       "    </tr>\n",
       "  </tbody>\n",
       "</table>\n",
       "<p>100 rows × 2 columns</p>\n",
       "</div>"
      ],
      "text/plain": [
       "    gender       score\n",
       "0     male   70.014971\n",
       "1     male  100.973040\n",
       "2     male   80.201445\n",
       "3     male   78.367452\n",
       "4     male   72.516833\n",
       "..     ...         ...\n",
       "95  female   16.463721\n",
       "96  female   25.046628\n",
       "97  female   29.820330\n",
       "98  female   24.388190\n",
       "99  female   31.542524\n",
       "\n",
       "[100 rows x 2 columns]"
      ]
     },
     "execution_count": 38,
     "metadata": {},
     "output_type": "execute_result"
    }
   ],
   "source": [
    "import pandas as pd\n",
    "import numpy as np\n",
    "\n",
    "notes = pd.DataFrame()\n",
    "notes['gender'] = ['male'] * 50 + ['female'] * 50\n",
    "notes['score'] = np.append(np.random.normal(75, 15, 50), np.random.normal(26, 10, 50))\n"
   ]
  },
  {
   "cell_type": "code",
   "execution_count": 39,
   "id": "24b205d8",
   "metadata": {},
   "outputs": [
    {
     "data": {
      "text/plain": [
       "52.95826581832751"
      ]
     },
     "execution_count": 39,
     "metadata": {},
     "output_type": "execute_result"
    }
   ],
   "source": [
    "#Matematiksel Formul kullanarak ortalama hesaplama\n",
    "sum(notes['score']) / len(notes['score'])"
   ]
  },
  {
   "cell_type": "code",
   "execution_count": 40,
   "id": "4c02bf9b",
   "metadata": {},
   "outputs": [
    {
     "name": "stdout",
     "output_type": "stream",
     "text": [
      "52.95826581832751\n"
     ]
    }
   ],
   "source": [
    "#Hazır (built-in) Python fonksiyonları kullanarak ortalama hesaplama\n",
    "print(np.mean(notes['score']))"
   ]
  },
  {
   "cell_type": "code",
   "execution_count": 41,
   "id": "bc7fc0f9",
   "metadata": {},
   "outputs": [
    {
     "data": {
      "text/plain": [
       "49.13317693231215"
      ]
     },
     "execution_count": 41,
     "metadata": {},
     "output_type": "execute_result"
    }
   ],
   "source": [
    "#Formul ile Median \n",
    "def median(no):\n",
    "    n = len(no)\n",
    "    if n < 1:\n",
    "            return None\n",
    "    if n % 2 == 1:\n",
    "            return sorted(no)[n//2]\n",
    "    else:\n",
    "            return sum(sorted(no)[n//2-1:n//2+1])/2.0\n",
    "        \n",
    "median(notes['score'])"
   ]
  },
  {
   "cell_type": "code",
   "execution_count": 42,
   "id": "81d6c2b2",
   "metadata": {},
   "outputs": [
    {
     "name": "stdout",
     "output_type": "stream",
     "text": [
      "49.13317693231215\n"
     ]
    }
   ],
   "source": [
    "#Built-in formulu ile Median\n",
    "import statistics\n",
    "print(statistics.median(notes['score']))"
   ]
  },
  {
   "cell_type": "code",
   "execution_count": 43,
   "id": "c37353e9",
   "metadata": {},
   "outputs": [
    {
     "name": "stdout",
     "output_type": "stream",
     "text": [
      "49.13317693231215\n"
     ]
    }
   ],
   "source": [
    "#numpy ile median hesaplama\n",
    "print(np.median(notes['score']))"
   ]
  },
  {
   "cell_type": "code",
   "execution_count": 44,
   "id": "a4ec6716",
   "metadata": {},
   "outputs": [
    {
     "data": {
      "text/plain": [
       "70.01497111031937"
      ]
     },
     "execution_count": 44,
     "metadata": {},
     "output_type": "execute_result"
    }
   ],
   "source": [
    "# Mod hesaplama\n",
    "import statistics\n",
    "statistics.mode(notes['score'])"
   ]
  },
  {
   "cell_type": "code",
   "execution_count": 47,
   "id": "7b7401d1",
   "metadata": {},
   "outputs": [
    {
     "data": {
      "text/plain": [
       "793.4590858820068"
      ]
     },
     "execution_count": 47,
     "metadata": {},
     "output_type": "execute_result"
    }
   ],
   "source": [
    "#Matematiksel Formul kullanarak varyans hesaplama\n",
    "var = sum((notes['score'] -np.mean(notes['score']))**2) / (len(notes['score']))\n",
    "var"
   ]
  },
  {
   "cell_type": "code",
   "execution_count": 48,
   "id": "8b1d6f7d",
   "metadata": {},
   "outputs": [
    {
     "name": "stdout",
     "output_type": "stream",
     "text": [
      "801.4738241232392\n"
     ]
    }
   ],
   "source": [
    "#Built-in formulu ile varyans\n",
    "print(notes['score'].var())"
   ]
  },
  {
   "cell_type": "code",
   "execution_count": 49,
   "id": "ffbc9377",
   "metadata": {},
   "outputs": [
    {
     "name": "stdout",
     "output_type": "stream",
     "text": [
      "793.4590858820068\n"
     ]
    }
   ],
   "source": [
    "#numpy ile varyans hesaplama\n",
    "print(np.var(notes['score']))"
   ]
  },
  {
   "cell_type": "code",
   "execution_count": 50,
   "id": "69756b75",
   "metadata": {},
   "outputs": [
    {
     "data": {
      "text/plain": [
       "28.310313034709438"
      ]
     },
     "execution_count": 50,
     "metadata": {},
     "output_type": "execute_result"
    }
   ],
   "source": [
    "#numpy ile standart sapma hesaplama\n",
    "np.std(notes['score'], ddof=1)"
   ]
  },
  {
   "cell_type": "code",
   "execution_count": 51,
   "id": "6d5264c8",
   "metadata": {},
   "outputs": [
    {
     "data": {
      "text/plain": [
       "28.310313034709438"
      ]
     },
     "execution_count": 51,
     "metadata": {},
     "output_type": "execute_result"
    }
   ],
   "source": [
    "#Built-in formulu ile standart sapma hesaplama\n",
    "notes['score'].std()"
   ]
  },
  {
   "cell_type": "code",
   "execution_count": 52,
   "id": "f8cb2ba6",
   "metadata": {},
   "outputs": [
    {
     "data": {
      "text/plain": [
       "2.816840581009168"
      ]
     },
     "execution_count": 52,
     "metadata": {},
     "output_type": "execute_result"
    }
   ],
   "source": [
    "#Standart Hata \n",
    "np.std(notes['score']) / np.sqrt(len(notes['score']))"
   ]
  },
  {
   "cell_type": "code",
   "execution_count": 53,
   "id": "c82a0531",
   "metadata": {},
   "outputs": [
    {
     "data": {
      "text/plain": [
       "2.8310313034709433"
      ]
     },
     "execution_count": 53,
     "metadata": {},
     "output_type": "execute_result"
    }
   ],
   "source": [
    "#Built-in formulu ile standart hata\n",
    "from scipy import stats\n",
    "stats.sem(notes['score'])"
   ]
  },
  {
   "cell_type": "code",
   "execution_count": null,
   "id": "c8d72ae8",
   "metadata": {},
   "outputs": [],
   "source": []
  }
 ],
 "metadata": {
  "kernelspec": {
   "display_name": "Python 3",
   "language": "python",
   "name": "python3"
  },
  "language_info": {
   "codemirror_mode": {
    "name": "ipython",
    "version": 3
   },
   "file_extension": ".py",
   "mimetype": "text/x-python",
   "name": "python",
   "nbconvert_exporter": "python",
   "pygments_lexer": "ipython3",
   "version": "3.8.8"
  }
 },
 "nbformat": 4,
 "nbformat_minor": 5
}
